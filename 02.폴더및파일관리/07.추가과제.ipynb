{
 "cells": [
  {
   "cell_type": "code",
   "execution_count": 9,
   "metadata": {},
   "outputs": [
    {
     "data": {
      "text/plain": [
       "[['놀부전자', '111-11-111111', '놀부', '서울시 강남구 삼성동 123', '제조', '부품제조'],\n",
       " ['흥부전자', '222-22-222222', '흥부', '서울시 강남구 삼성동 234', '제조', '부품제조'],\n",
       " ['제비공업', '333-33-333333', '제비', '서울시 강남구 논현동 111', '공업', '부품공업'],\n",
       " ['콩쥐하이텍', '444-44-444444', '콩쥐', '서울시 영등포구 영등포동 52', '공업', '부품공업'],\n",
       " ['팥쥐엔지니어링', '555-55-555555', '팥쥐', '서울시 마포구 연남동 23', '제조', '부품제조']]"
      ]
     },
     "execution_count": 9,
     "metadata": {},
     "output_type": "execute_result"
    }
   ],
   "source": [
    "#1. 데이터선택\n",
    "import xlwings as xw\n",
    "\n",
    "# 엑셀 앱 만들기\n",
    "app = xw.App(add_book=False)\n",
    "\n",
    "# 엑셀 워크북 불려오기\n",
    "wb = app.books.open(r\"C:\\Users\\seah\\Documents\\공유폴더\\추가과제\\세금계산서_데이터.xlsx\")\n",
    "\n",
    "# 워크 시트 선택\n",
    "ws = wb.sheets['sheet1']\n",
    "\n",
    "rows = ws.range('A2:F6').value\n",
    "rows\n",
    "\n"
   ]
  },
  {
   "cell_type": "code",
   "execution_count": 10,
   "metadata": {},
   "outputs": [],
   "source": [
    "wb.close()"
   ]
  },
  {
   "cell_type": "code",
   "execution_count": 11,
   "metadata": {},
   "outputs": [],
   "source": [
    "# 양식파일 열기\n",
    "wb = app.books.open(r\"C:\\Users\\seah\\Documents\\공유폴더\\추가과제\\세금계산서_양식.xlsx\")\n",
    "\n",
    "# 워크 시트 선택\n",
    "ws = wb.sheets['자료입력페이지']"
   ]
  },
  {
   "cell_type": "code",
   "execution_count": 12,
   "metadata": {},
   "outputs": [],
   "source": [
    "for row in rows:\n",
    "    ws.range('H5').value = row[0]\n",
    "    ws.range('H6').value = row[1]\n",
    "    ws.range('H7').value = row[2]\n",
    "    ws.range('H8').value = row[3]\n",
    "    ws.range('H9').value = row[4]\n",
    "    ws.range('H10').value = row[5]\n",
    "    wb.save(rf\"C:\\Users\\seah\\Documents\\공유폴더\\추가과제\\세금계산서_{row[0]}.xlsx\")\n",
    "    "
   ]
  },
  {
   "cell_type": "code",
   "execution_count": 13,
   "metadata": {},
   "outputs": [],
   "source": [
    "#앱 종료\n",
    "app.quit()"
   ]
  },
  {
   "cell_type": "code",
   "execution_count": null,
   "metadata": {},
   "outputs": [],
   "source": []
  }
 ],
 "metadata": {
  "kernelspec": {
   "display_name": "02.폴더및파일관리",
   "language": "python",
   "name": "python3"
  },
  "language_info": {
   "codemirror_mode": {
    "name": "ipython",
    "version": 3
   },
   "file_extension": ".py",
   "mimetype": "text/x-python",
   "name": "python",
   "nbconvert_exporter": "python",
   "pygments_lexer": "ipython3",
   "version": "3.10.11"
  },
  "orig_nbformat": 4
 },
 "nbformat": 4,
 "nbformat_minor": 2
}

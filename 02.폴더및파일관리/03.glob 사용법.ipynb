{
 "cells": [
  {
   "cell_type": "code",
   "execution_count": 1,
   "metadata": {},
   "outputs": [
    {
     "data": {
      "text/plain": [
       "['참이슬/sale_data1.txt']"
      ]
     },
     "execution_count": 1,
     "metadata": {},
     "output_type": "execute_result"
    }
   ],
   "source": [
    "import glob\n",
    "\n",
    "glob.glob('참이슬/sale_data1.txt')"
   ]
  },
  {
   "cell_type": "code",
   "execution_count": 2,
   "metadata": {},
   "outputs": [
    {
     "data": {
      "text/plain": [
       "['참이슬\\\\sale_data1.txt',\n",
       " '참이슬\\\\sale_data2.txt',\n",
       " '참이슬\\\\sale_data3.txt',\n",
       " '참이슬\\\\sale_data4.txt',\n",
       " '참이슬\\\\sale_data5.txt',\n",
       " '참이슬\\\\sale_data6.txt',\n",
       " '참이슬\\\\sale_data7.txt',\n",
       " '참이슬\\\\sale_data8.txt',\n",
       " '참이슬\\\\sale_data9.txt']"
      ]
     },
     "execution_count": 2,
     "metadata": {},
     "output_type": "execute_result"
    }
   ],
   "source": [
    "# ? 기호\n",
    "# : 문자의 종류와 상관없이 정확히 한글자와 매칭\n",
    "\n",
    "glob.glob('참이슬/sale_data?.txt')"
   ]
  },
  {
   "cell_type": "code",
   "execution_count": 4,
   "metadata": {},
   "outputs": [
    {
     "data": {
      "text/plain": [
       "['참이슬\\\\sale_data1.txt',\n",
       " '참이슬\\\\sale_data10.txt',\n",
       " '참이슬\\\\sale_data100.txt',\n",
       " '참이슬\\\\sale_data11.txt',\n",
       " '참이슬\\\\sale_data12.txt',\n",
       " '참이슬\\\\sale_data13.txt',\n",
       " '참이슬\\\\sale_data14.txt',\n",
       " '참이슬\\\\sale_data15.txt',\n",
       " '참이슬\\\\sale_data16.txt',\n",
       " '참이슬\\\\sale_data17.txt',\n",
       " '참이슬\\\\sale_data18.txt',\n",
       " '참이슬\\\\sale_data19.txt',\n",
       " '참이슬\\\\sale_data2.txt',\n",
       " '참이슬\\\\sale_data20.txt',\n",
       " '참이슬\\\\sale_data21.txt',\n",
       " '참이슬\\\\sale_data22.txt',\n",
       " '참이슬\\\\sale_data23.txt',\n",
       " '참이슬\\\\sale_data24.txt',\n",
       " '참이슬\\\\sale_data25.txt',\n",
       " '참이슬\\\\sale_data26.txt',\n",
       " '참이슬\\\\sale_data27.txt',\n",
       " '참이슬\\\\sale_data28.txt',\n",
       " '참이슬\\\\sale_data29.txt',\n",
       " '참이슬\\\\sale_data3.txt',\n",
       " '참이슬\\\\sale_data30.txt',\n",
       " '참이슬\\\\sale_data31.txt',\n",
       " '참이슬\\\\sale_data32.txt',\n",
       " '참이슬\\\\sale_data33.txt',\n",
       " '참이슬\\\\sale_data34.txt',\n",
       " '참이슬\\\\sale_data35.txt',\n",
       " '참이슬\\\\sale_data36.txt',\n",
       " '참이슬\\\\sale_data37.txt',\n",
       " '참이슬\\\\sale_data38.txt',\n",
       " '참이슬\\\\sale_data39.txt',\n",
       " '참이슬\\\\sale_data4.txt',\n",
       " '참이슬\\\\sale_data40.txt',\n",
       " '참이슬\\\\sale_data41.txt',\n",
       " '참이슬\\\\sale_data42.txt',\n",
       " '참이슬\\\\sale_data43.txt',\n",
       " '참이슬\\\\sale_data44.txt',\n",
       " '참이슬\\\\sale_data45.txt',\n",
       " '참이슬\\\\sale_data46.txt',\n",
       " '참이슬\\\\sale_data47.txt',\n",
       " '참이슬\\\\sale_data48.txt',\n",
       " '참이슬\\\\sale_data49.txt',\n",
       " '참이슬\\\\sale_data5.txt',\n",
       " '참이슬\\\\sale_data50.txt',\n",
       " '참이슬\\\\sale_data51.txt',\n",
       " '참이슬\\\\sale_data52.txt',\n",
       " '참이슬\\\\sale_data53.txt',\n",
       " '참이슬\\\\sale_data54.txt',\n",
       " '참이슬\\\\sale_data55.txt',\n",
       " '참이슬\\\\sale_data56.txt',\n",
       " '참이슬\\\\sale_data57.txt',\n",
       " '참이슬\\\\sale_data58.txt',\n",
       " '참이슬\\\\sale_data59.txt',\n",
       " '참이슬\\\\sale_data6.txt',\n",
       " '참이슬\\\\sale_data60.txt',\n",
       " '참이슬\\\\sale_data61.txt',\n",
       " '참이슬\\\\sale_data62.txt',\n",
       " '참이슬\\\\sale_data63.txt',\n",
       " '참이슬\\\\sale_data64.txt',\n",
       " '참이슬\\\\sale_data65.txt',\n",
       " '참이슬\\\\sale_data66.txt',\n",
       " '참이슬\\\\sale_data67.txt',\n",
       " '참이슬\\\\sale_data68.txt',\n",
       " '참이슬\\\\sale_data69.txt',\n",
       " '참이슬\\\\sale_data7.txt',\n",
       " '참이슬\\\\sale_data70.txt',\n",
       " '참이슬\\\\sale_data71.txt',\n",
       " '참이슬\\\\sale_data72.txt',\n",
       " '참이슬\\\\sale_data73.txt',\n",
       " '참이슬\\\\sale_data74.txt',\n",
       " '참이슬\\\\sale_data75.txt',\n",
       " '참이슬\\\\sale_data76.txt',\n",
       " '참이슬\\\\sale_data77.txt',\n",
       " '참이슬\\\\sale_data78.txt',\n",
       " '참이슬\\\\sale_data79.txt',\n",
       " '참이슬\\\\sale_data8.txt',\n",
       " '참이슬\\\\sale_data80.txt',\n",
       " '참이슬\\\\sale_data81.txt',\n",
       " '참이슬\\\\sale_data82.txt',\n",
       " '참이슬\\\\sale_data83.txt',\n",
       " '참이슬\\\\sale_data84.txt',\n",
       " '참이슬\\\\sale_data85.txt',\n",
       " '참이슬\\\\sale_data86.txt',\n",
       " '참이슬\\\\sale_data87.txt',\n",
       " '참이슬\\\\sale_data88.txt',\n",
       " '참이슬\\\\sale_data89.txt',\n",
       " '참이슬\\\\sale_data9.txt',\n",
       " '참이슬\\\\sale_data90.txt',\n",
       " '참이슬\\\\sale_data91.txt',\n",
       " '참이슬\\\\sale_data92.txt',\n",
       " '참이슬\\\\sale_data93.txt',\n",
       " '참이슬\\\\sale_data94.txt',\n",
       " '참이슬\\\\sale_data95.txt',\n",
       " '참이슬\\\\sale_data96.txt',\n",
       " '참이슬\\\\sale_data97.txt',\n",
       " '참이슬\\\\sale_data98.txt',\n",
       " '참이슬\\\\sale_data99.txt']"
      ]
     },
     "execution_count": 4,
     "metadata": {},
     "output_type": "execute_result"
    }
   ],
   "source": [
    "# * 기호\n",
    "# 길이와 상관없이 모든 문자열과 매칭\n",
    "\n",
    "glob.glob('참이슬/*.txt')"
   ]
  },
  {
   "cell_type": "code",
   "execution_count": 6,
   "metadata": {},
   "outputs": [
    {
     "data": {
      "text/plain": [
       "['참이슬\\\\sale_data1.txt',\n",
       " '참이슬\\\\sale_data2.txt',\n",
       " '참이슬\\\\sale_data3.txt',\n",
       " '참이슬\\\\sale_data4.txt',\n",
       " '참이슬\\\\sale_data5.txt',\n",
       " '참이슬\\\\sale_data6.txt',\n",
       " '참이슬\\\\sale_data7.txt',\n",
       " '참이슬\\\\sale_data8.txt',\n",
       " '참이슬\\\\sale_data9.txt']"
      ]
     },
     "execution_count": 6,
     "metadata": {},
     "output_type": "execute_result"
    }
   ],
   "source": [
    "# [] 기호\n",
    "# [aeiou], [0-9] 괄호안에 있는 문자 하나와 매칭\n",
    "glob.glob('참이슬/sale_data[0-9].txt')"
   ]
  },
  {
   "cell_type": "code",
   "execution_count": 7,
   "metadata": {},
   "outputs": [
    {
     "data": {
      "text/plain": [
       "['참이슬\\\\sale_data1.txt', '참이슬\\\\sale_data2.txt', '참이슬\\\\sale_data3.txt']"
      ]
     },
     "execution_count": 7,
     "metadata": {},
     "output_type": "execute_result"
    }
   ],
   "source": [
    "# [] 기호\n",
    "# [aeiou], [0-9] 괄호안에 있는 문자 하나와 매칭\n",
    "glob.glob('참이슬/sale_data[123].txt')"
   ]
  },
  {
   "cell_type": "code",
   "execution_count": null,
   "metadata": {},
   "outputs": [],
   "source": []
  },
  {
   "cell_type": "code",
   "execution_count": null,
   "metadata": {},
   "outputs": [],
   "source": []
  }
 ],
 "metadata": {
  "kernelspec": {
   "display_name": "02.폴더및파일관리",
   "language": "python",
   "name": "python3"
  },
  "language_info": {
   "codemirror_mode": {
    "name": "ipython",
    "version": 3
   },
   "file_extension": ".py",
   "mimetype": "text/x-python",
   "name": "python",
   "nbconvert_exporter": "python",
   "pygments_lexer": "ipython3",
   "version": "3.10.11"
  },
  "orig_nbformat": 4
 },
 "nbformat": 4,
 "nbformat_minor": 2
}

{
 "cells": [
  {
   "cell_type": "code",
   "execution_count": 1,
   "metadata": {},
   "outputs": [],
   "source": [
    "import os, glob, shutil"
   ]
  },
  {
   "cell_type": "code",
   "execution_count": 11,
   "metadata": {},
   "outputs": [
    {
     "data": {
      "text/plain": [
       "['C:\\\\Users\\\\seah\\\\Documents\\\\공유폴더\\\\GS칼텍스_20300203_보고서.docx',\n",
       " 'C:\\\\Users\\\\seah\\\\Documents\\\\공유폴더\\\\KT rolster_20300112_보고서.pptx',\n",
       " 'C:\\\\Users\\\\seah\\\\Documents\\\\공유폴더\\\\SK브로드밴드_20300104_데이터.xlsx',\n",
       " 'C:\\\\Users\\\\seah\\\\Documents\\\\공유폴더\\\\SOIL_20300310_데이터.csv',\n",
       " 'C:\\\\Users\\\\seah\\\\Documents\\\\공유폴더\\\\농심_20300112_보고서.pptx',\n",
       " 'C:\\\\Users\\\\seah\\\\Documents\\\\공유폴더\\\\농협_20300105_데이터.xlsx',\n",
       " 'C:\\\\Users\\\\seah\\\\Documents\\\\공유폴더\\\\두산그룹_20300205_데이터.csv',\n",
       " 'C:\\\\Users\\\\seah\\\\Documents\\\\공유폴더\\\\보고서파일',\n",
       " 'C:\\\\Users\\\\seah\\\\Documents\\\\공유폴더\\\\삼양그룹_20300102_데이터.xlsx',\n",
       " 'C:\\\\Users\\\\seah\\\\Documents\\\\공유폴더\\\\세금계산서_놀부전자.xlsx',\n",
       " 'C:\\\\Users\\\\seah\\\\Documents\\\\공유폴더\\\\세금계산서_제비공업.xlsx',\n",
       " 'C:\\\\Users\\\\seah\\\\Documents\\\\공유폴더\\\\세금계산서_콩쥐하이텍.xlsx',\n",
       " 'C:\\\\Users\\\\seah\\\\Documents\\\\공유폴더\\\\세금계산서_팥쥐엔지니어링.xlsx',\n",
       " 'C:\\\\Users\\\\seah\\\\Documents\\\\공유폴더\\\\세금계산서_흥부전자.xlsx',\n",
       " 'C:\\\\Users\\\\seah\\\\Documents\\\\공유폴더\\\\셀트리온_20300210_데이터.csv',\n",
       " 'C:\\\\Users\\\\seah\\\\Documents\\\\공유폴더\\\\신세계그룹_20300124_보고서.docx',\n",
       " 'C:\\\\Users\\\\seah\\\\Documents\\\\공유폴더\\\\아시아나_20300124_보고서.docx',\n",
       " 'C:\\\\Users\\\\seah\\\\Documents\\\\공유폴더\\\\코오롱_20300104_데이터.xlsx',\n",
       " 'C:\\\\Users\\\\seah\\\\Documents\\\\공유폴더\\\\포스코_20300120_보고서.docx',\n",
       " 'C:\\\\Users\\\\seah\\\\Documents\\\\공유폴더\\\\현대백화점_20300213_보고서.pptx',\n",
       " 'C:\\\\Users\\\\seah\\\\Documents\\\\공유폴더\\\\효성그룹_20300310_데이터.csv']"
      ]
     },
     "execution_count": 11,
     "metadata": {},
     "output_type": "execute_result"
    }
   ],
   "source": [
    "#0. [내문서/공유폴더]\n",
    "# 전체 파일 추출\n",
    "\n",
    "glob.glob(r'C:\\Users\\seah\\Documents\\공유폴더/*')"
   ]
  },
  {
   "cell_type": "code",
   "execution_count": 14,
   "metadata": {},
   "outputs": [
    {
     "data": {
      "text/plain": [
       "['C:\\\\Users\\\\seah\\\\Documents\\\\공유폴더\\\\GS칼텍스_20300203_보고서.docx',\n",
       " 'C:\\\\Users\\\\seah\\\\Documents\\\\공유폴더\\\\KT rolster_20300112_보고서.pptx',\n",
       " 'C:\\\\Users\\\\seah\\\\Documents\\\\공유폴더\\\\농심_20300112_보고서.pptx',\n",
       " 'C:\\\\Users\\\\seah\\\\Documents\\\\공유폴더\\\\신세계그룹_20300124_보고서.docx',\n",
       " 'C:\\\\Users\\\\seah\\\\Documents\\\\공유폴더\\\\아시아나_20300124_보고서.docx',\n",
       " 'C:\\\\Users\\\\seah\\\\Documents\\\\공유폴더\\\\포스코_20300120_보고서.docx',\n",
       " 'C:\\\\Users\\\\seah\\\\Documents\\\\공유폴더\\\\현대백화점_20300213_보고서.pptx']"
      ]
     },
     "execution_count": 14,
     "metadata": {},
     "output_type": "execute_result"
    }
   ],
   "source": [
    "#1. [내문서/공유폴더]\n",
    "#'보고서'단어가 포함된 파일 추출\n",
    "\n",
    "glob.glob(r'C:\\Users\\seah\\Documents\\공유폴더/*보고서.*')"
   ]
  },
  {
   "cell_type": "code",
   "execution_count": 15,
   "metadata": {},
   "outputs": [],
   "source": [
    "#2. [내문서/공유폴더/보고서파일]\n",
    "# 폴더가 없다면 만들기\n",
    "\n",
    "if not os.path.exists(r'C:\\Users\\seah\\Documents\\공유폴더\\보고서파일'):\n",
    "    os.mkdir(r'C:\\Users\\seah\\Documents\\공유폴더/보고서파일')"
   ]
  },
  {
   "cell_type": "code",
   "execution_count": 16,
   "metadata": {},
   "outputs": [],
   "source": [
    "#3. 파일 이동시키기\n",
    "#추출한 파일들 '보고서파일' 폴더 이동\n",
    "\n",
    "report = glob.glob(r'C:\\Users\\seah\\Documents\\공유폴더/*보고서.*') #리스트 형태로 report에 저장됨.\n",
    "\n",
    "for file in report:\n",
    "    shutil.move(file,r'C:\\Users\\seah\\Documents\\공유폴더/보고서파일') # 파일 한개씩 이동 시킴\n"
   ]
  },
  {
   "cell_type": "code",
   "execution_count": 18,
   "metadata": {},
   "outputs": [
    {
     "data": {
      "text/plain": [
       "['C:\\\\Users\\\\seah\\\\Documents\\\\공유폴더\\\\SK브로드밴드_20300104_데이터.xlsx',\n",
       " 'C:\\\\Users\\\\seah\\\\Documents\\\\공유폴더\\\\SOIL_20300310_데이터.csv',\n",
       " 'C:\\\\Users\\\\seah\\\\Documents\\\\공유폴더\\\\농협_20300105_데이터.xlsx',\n",
       " 'C:\\\\Users\\\\seah\\\\Documents\\\\공유폴더\\\\두산그룹_20300205_데이터.csv',\n",
       " 'C:\\\\Users\\\\seah\\\\Documents\\\\공유폴더\\\\삼양그룹_20300102_데이터.xlsx',\n",
       " 'C:\\\\Users\\\\seah\\\\Documents\\\\공유폴더\\\\셀트리온_20300210_데이터.csv',\n",
       " 'C:\\\\Users\\\\seah\\\\Documents\\\\공유폴더\\\\코오롱_20300104_데이터.xlsx',\n",
       " 'C:\\\\Users\\\\seah\\\\Documents\\\\공유폴더\\\\효성그룹_20300310_데이터.csv']"
      ]
     },
     "execution_count": 18,
     "metadata": {},
     "output_type": "execute_result"
    }
   ],
   "source": [
    "#'보고서'단어가 포함된 파일 추출\n",
    "\n",
    "data_files=glob.glob(r'C:\\Users\\seah\\Documents\\공유폴더/*데이터.*')\n",
    "data_files"
   ]
  },
  {
   "cell_type": "code",
   "execution_count": 19,
   "metadata": {},
   "outputs": [],
   "source": [
    "# 폴더가 없다면 만들기\n",
    "\n",
    "if not os.path.exists(r'C:\\Users\\seah\\Documents\\공유폴더\\데이터파일'):\n",
    "    os.mkdir(r'C:\\Users\\seah\\Documents\\공유폴더/데이터파일')"
   ]
  },
  {
   "cell_type": "code",
   "execution_count": 20,
   "metadata": {},
   "outputs": [],
   "source": [
    "#추출한 파일들 '데이터파일' 폴더 이동\n",
    "\n",
    "for file in data_files:\n",
    "    shutil.move(file,r'C:\\Users\\seah\\Documents\\공유폴더/데이터파일') # 파일 한개씩 이동 시킴"
   ]
  },
  {
   "cell_type": "code",
   "execution_count": 26,
   "metadata": {},
   "outputs": [],
   "source": [
    "#(심화) 폴더 자동 정리 프로그램 완성하기\n",
    "\n",
    "keyword_list = ['보고서','데이터','계산서']\n",
    "for keyword in keyword_list:\n",
    "   file_list = glob.glob(rf'C:\\Users\\seah\\Documents\\공유폴더/*{keyword}*')\n",
    "   if not os.path.exists(rf'C:\\Users\\seah\\Documents\\공유폴더\\{keyword}파일'):\n",
    "        os.mkdir(rf'C:\\Users\\seah\\Documents\\공유폴더/{keyword}파일')\n",
    "   for file in file_list:\n",
    "        shutil.move(file,rf'C:\\Users\\seah\\Documents\\공유폴더/{keyword}파일')"
   ]
  },
  {
   "cell_type": "code",
   "execution_count": 27,
   "metadata": {},
   "outputs": [],
   "source": [
    "#(심화) 폴더 자동 정리 프로그램 완성하기-2 (반복되는 경로도 합치기)\n",
    "\n",
    "target_folder = r'C:\\Users\\seah\\Documents\\공유폴더'\n",
    "\n",
    "keyword_list = ['보고서','데이터','계산서']\n",
    "for keyword in keyword_list:\n",
    "   file_list = glob.glob(f'{target_folder}/*{keyword}*')\n",
    "   if not os.path.exists(f'{target_folder}\\{keyword}파일'):\n",
    "        os.mkdir(f'{target_folder}/{keyword}파일')\n",
    "   for file in file_list:\n",
    "        shutil.move(file,f'{target_folder}/{keyword}파일')"
   ]
  }
 ],
 "metadata": {
  "kernelspec": {
   "display_name": "02.폴더및파일관리",
   "language": "python",
   "name": "python3"
  },
  "language_info": {
   "codemirror_mode": {
    "name": "ipython",
    "version": 3
   },
   "file_extension": ".py",
   "mimetype": "text/x-python",
   "name": "python",
   "nbconvert_exporter": "python",
   "pygments_lexer": "ipython3",
   "version": "3.10.11"
  },
  "orig_nbformat": 4
 },
 "nbformat": 4,
 "nbformat_minor": 2
}

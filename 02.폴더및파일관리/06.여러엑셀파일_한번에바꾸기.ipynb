{
 "cells": [
  {
   "cell_type": "code",
   "execution_count": 2,
   "metadata": {},
   "outputs": [],
   "source": [
    "import xlwings as xw\n",
    "import glob"
   ]
  },
  {
   "cell_type": "code",
   "execution_count": 6,
   "metadata": {},
   "outputs": [],
   "source": [
    "# 1개를 변경하는걸 먼저 해보고 For 문으로 자동화\n",
    "# 엑셀 앱 만들기\n",
    "app = xw.App(add_book=False)\n",
    "\n",
    "# 엑셀 워크북 불려오기\n",
    "wb = app.books.open(r\"C:\\Users\\seah\\Documents\\공유폴더\\계산서파일\\세금계산서_놀부전자.xlsx\")\n",
    "\n",
    "# 워크 시트 선택\n",
    "ws = wb.sheets['자료입력페이지']\n",
    "\n",
    "# 셀 데이터 입력\n",
    "ws.range('C14').value ='2030-02-01'\n",
    "\n",
    "# 워크북 저장\n",
    "wb.save()\n",
    "\n",
    "# 엑셀 앱 닫기\n",
    "app.quit()\n",
    "\n"
   ]
  },
  {
   "cell_type": "code",
   "execution_count": 7,
   "metadata": {},
   "outputs": [
    {
     "data": {
      "text/plain": [
       "['C:\\\\Users\\\\seah\\\\Documents\\\\공유폴더\\\\계산서파일\\\\세금계산서_놀부전자.xlsx',\n",
       " 'C:\\\\Users\\\\seah\\\\Documents\\\\공유폴더\\\\계산서파일\\\\세금계산서_제비공업.xlsx',\n",
       " 'C:\\\\Users\\\\seah\\\\Documents\\\\공유폴더\\\\계산서파일\\\\세금계산서_콩쥐하이텍.xlsx',\n",
       " 'C:\\\\Users\\\\seah\\\\Documents\\\\공유폴더\\\\계산서파일\\\\세금계산서_팥쥐엔지니어링.xlsx',\n",
       " 'C:\\\\Users\\\\seah\\\\Documents\\\\공유폴더\\\\계산서파일\\\\세금계산서_흥부전자.xlsx']"
      ]
     },
     "execution_count": 7,
     "metadata": {},
     "output_type": "execute_result"
    }
   ],
   "source": [
    "#파일경로의 목록 추출\n",
    "file_list =glob.glob(r\"C:\\Users\\seah\\Documents\\공유폴더\\계산서파일\\*\") #*은 업무상황에 맞게 설정할것\n",
    "file_list"
   ]
  },
  {
   "cell_type": "code",
   "execution_count": 9,
   "metadata": {},
   "outputs": [],
   "source": [
    "#1번 구문은 느림\n",
    "for file in file_list:\n",
    "    # 엑셀 앱 만들기\n",
    "    app = xw.App(add_book=False)\n",
    "\n",
    "    # 엑셀 워크북 불려오기\n",
    "    wb = app.books.open(file)\n",
    "\n",
    "    # 워크 시트 선택\n",
    "    ws = wb.sheets['자료입력페이지']\n",
    "\n",
    "    # 셀 데이터 입력\n",
    "    ws.range('C14').value ='2030-02-01'\n",
    "\n",
    "    # 워크북 저장\n",
    "    wb.save()\n",
    "\n",
    "    # 엑셀 앱 닫기\n",
    "    app.quit()"
   ]
  },
  {
   "cell_type": "code",
   "execution_count": 11,
   "metadata": {},
   "outputs": [],
   "source": [
    "#2번 1번 보다 효율적인 구분으로 변경\n",
    "\n",
    "# 엑셀 앱 만들기\n",
    "app = xw.App(add_book=False)\n",
    "for file in file_list:    \n",
    "\n",
    "    # 엑셀 워크북 불려오기\n",
    "    wb = app.books.open(file)\n",
    "\n",
    "    # 워크 시트 선택\n",
    "    ws = wb.sheets['자료입력페이지']\n",
    "\n",
    "    # 셀 데이터 입력\n",
    "    ws.range('C14').value ='2030-02-01'\n",
    "\n",
    "    # 워크북 저장\n",
    "    wb.save()\n",
    "\n",
    "    #워크북 닫기\n",
    "    wb.close()\n",
    "# 엑셀 앱 닫기\n",
    "app.quit()"
   ]
  }
 ],
 "metadata": {
  "kernelspec": {
   "display_name": "02.폴더및파일관리",
   "language": "python",
   "name": "python3"
  },
  "language_info": {
   "codemirror_mode": {
    "name": "ipython",
    "version": 3
   },
   "file_extension": ".py",
   "mimetype": "text/x-python",
   "name": "python",
   "nbconvert_exporter": "python",
   "pygments_lexer": "ipython3",
   "version": "3.10.11"
  },
  "orig_nbformat": 4
 },
 "nbformat": 4,
 "nbformat_minor": 2
}

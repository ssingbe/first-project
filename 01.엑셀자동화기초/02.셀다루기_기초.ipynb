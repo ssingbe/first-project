{
 "cells": [
  {
   "cell_type": "code",
   "execution_count": 1,
   "metadata": {},
   "outputs": [],
   "source": [
    "#https://www.youtube.com/watch?v=cCZchUbeGpI(교육영상)\n",
    "\n",
    "import xlwings as xw "
   ]
  },
  {
   "cell_type": "code",
   "execution_count": 2,
   "metadata": {},
   "outputs": [],
   "source": [
    "#Q. 교육이수현황.xlsx을 열고(wb), 마케팅팀 시트선택(ws)\n",
    "app = xw.App(add_book=False)\n",
    "wb = app.books.open('교육이수현황.xlsx')\n",
    "ws = wb.sheets['마케팅팀']"
   ]
  },
  {
   "cell_type": "code",
   "execution_count": 3,
   "metadata": {},
   "outputs": [],
   "source": [
    "#데이터 1개 입력\n",
    "ws.range('a1').value ='성명'"
   ]
  },
  {
   "cell_type": "code",
   "execution_count": 4,
   "metadata": {},
   "outputs": [],
   "source": [
    "ws.range('b1').value = '1월'"
   ]
  },
  {
   "cell_type": "code",
   "execution_count": 5,
   "metadata": {},
   "outputs": [],
   "source": [
    "ws.range('a2').value='리신'\n",
    "ws.range('b2').value=12"
   ]
  },
  {
   "cell_type": "code",
   "execution_count": 6,
   "metadata": {},
   "outputs": [],
   "source": [
    "#데이터 여러개 입력\n",
    "ws.range('a3').value = ['이즈리얼',5]"
   ]
  },
  {
   "cell_type": "code",
   "execution_count": 7,
   "metadata": {},
   "outputs": [],
   "source": [
    "ws.range('a4').value =[['야스오',0],['요네',0]]"
   ]
  },
  {
   "cell_type": "code",
   "execution_count": 8,
   "metadata": {},
   "outputs": [],
   "source": [
    "ws.range('a6').options(transpose=True).value =['피즈','샤코']"
   ]
  },
  {
   "cell_type": "code",
   "execution_count": 9,
   "metadata": {},
   "outputs": [],
   "source": [
    "ws.range('b6').options(transpose=True).value =['15.5','8']"
   ]
  },
  {
   "cell_type": "code",
   "execution_count": 10,
   "metadata": {},
   "outputs": [],
   "source": [
    "#Q. A8 셀에 \"합계\" 입력\n",
    "#B8 셀에 Sum 수식\n",
    "ws.range('a8').value = '합계'\n",
    "ws.range('b8').value = '=sum(B2:B7)'\n"
   ]
  },
  {
   "cell_type": "code",
   "execution_count": 11,
   "metadata": {},
   "outputs": [
    {
     "data": {
      "text/plain": [
       "<Range [교육이수현황.xlsx]마케팅팀!$A$1>"
      ]
     },
     "execution_count": 11,
     "metadata": {},
     "output_type": "execute_result"
    }
   ],
   "source": [
    "# 셀 한개 접근하기\n",
    "ws.range('a1')"
   ]
  },
  {
   "cell_type": "code",
   "execution_count": 12,
   "metadata": {},
   "outputs": [
    {
     "data": {
      "text/plain": [
       "'성명'"
      ]
     },
     "execution_count": 12,
     "metadata": {},
     "output_type": "execute_result"
    }
   ],
   "source": [
    "# 셀 한개 값 가져오기\n",
    "ws.range('a1').value"
   ]
  },
  {
   "cell_type": "code",
   "execution_count": 13,
   "metadata": {},
   "outputs": [
    {
     "data": {
      "text/plain": [
       "<Range [교육이수현황.xlsx]마케팅팀!$A$1:$B$8>"
      ]
     },
     "execution_count": 13,
     "metadata": {},
     "output_type": "execute_result"
    }
   ],
   "source": [
    "#셀 여러개 접근하기\n",
    "ws.range('a1:b8')"
   ]
  },
  {
   "cell_type": "code",
   "execution_count": 14,
   "metadata": {},
   "outputs": [
    {
     "data": {
      "text/plain": [
       "[['성명', '1월'],\n",
       " ['리신', 12.0],\n",
       " ['이즈리얼', 5.0],\n",
       " ['야스오', 0.0],\n",
       " ['요네', 0.0],\n",
       " ['피즈', 15.5],\n",
       " ['샤코', 8.0],\n",
       " ['합계', 40.5]]"
      ]
     },
     "execution_count": 14,
     "metadata": {},
     "output_type": "execute_result"
    }
   ],
   "source": [
    "#셀 여러개 값 가져오기\n",
    "ws.range('a1:b8').value"
   ]
  },
  {
   "cell_type": "code",
   "execution_count": 15,
   "metadata": {},
   "outputs": [],
   "source": [
    "ws.range('c1').value = ['2월','3월']"
   ]
  },
  {
   "cell_type": "code",
   "execution_count": 16,
   "metadata": {},
   "outputs": [],
   "source": [
    "#복사하기\n",
    "ws.range('b2:b8').copy()"
   ]
  },
  {
   "cell_type": "code",
   "execution_count": 17,
   "metadata": {},
   "outputs": [],
   "source": [
    "#붙여넣기\n",
    "ws.range('c2').paste()\n",
    "ws.range('d2').paste()"
   ]
  },
  {
   "cell_type": "code",
   "execution_count": 18,
   "metadata": {},
   "outputs": [
    {
     "data": {
      "text/plain": [
       "['성명', '리신', '이즈리얼', '야스오', '요네', '피즈', '샤코', '합계']"
      ]
     },
     "execution_count": 18,
     "metadata": {},
     "output_type": "execute_result"
    }
   ],
   "source": [
    "#셀 확장해서 선택하기\n",
    "ws.range('a1').expand('down').value"
   ]
  },
  {
   "cell_type": "code",
   "execution_count": 19,
   "metadata": {},
   "outputs": [
    {
     "data": {
      "text/plain": [
       "['성명', '1월', '2월', '3월']"
      ]
     },
     "execution_count": 19,
     "metadata": {},
     "output_type": "execute_result"
    }
   ],
   "source": [
    "#셀 확장해서 선택하기(right)\n",
    "ws.range('a1').expand('right').value"
   ]
  },
  {
   "cell_type": "code",
   "execution_count": 20,
   "metadata": {},
   "outputs": [
    {
     "data": {
      "text/plain": [
       "[['성명', '1월', '2월', '3월'],\n",
       " ['리신', 12.0, 12.0, 12.0],\n",
       " ['이즈리얼', 5.0, 5.0, 5.0],\n",
       " ['야스오', 0.0, 0.0, 0.0],\n",
       " ['요네', 0.0, 0.0, 0.0],\n",
       " ['피즈', 15.5, 15.5, 15.5],\n",
       " ['샤코', 8.0, 8.0, 8.0],\n",
       " ['합계', 40.5, 40.5, 40.5]]"
      ]
     },
     "execution_count": 20,
     "metadata": {},
     "output_type": "execute_result"
    }
   ],
   "source": [
    "#셀 확장해서 선택하기 (table)\n",
    "ws.range('a1').expand('table').value"
   ]
  },
  {
   "cell_type": "code",
   "execution_count": 21,
   "metadata": {},
   "outputs": [],
   "source": [
    "# 폰트\n",
    "ws.range('a1:d1').font.size =13 #글자크기 변경"
   ]
  },
  {
   "cell_type": "code",
   "execution_count": 22,
   "metadata": {},
   "outputs": [],
   "source": [
    "# 폰트\n",
    "ws.range('a1:d1').font.bold = True #bold"
   ]
  },
  {
   "cell_type": "code",
   "execution_count": 23,
   "metadata": {},
   "outputs": [],
   "source": [
    "# 셀배경\n",
    "ws.range('a1:d1').color = (255,255,0) #배경색 변경"
   ]
  },
  {
   "cell_type": "code",
   "execution_count": 24,
   "metadata": {},
   "outputs": [],
   "source": [
    "# 폰트\n",
    "ws.range('a1:d1').font.color = (255,0,0) #폰트색 변경"
   ]
  },
  {
   "cell_type": "code",
   "execution_count": 25,
   "metadata": {},
   "outputs": [],
   "source": [
    "wb.save()\n",
    "app.quit()"
   ]
  }
 ],
 "metadata": {
  "kernelspec": {
   "display_name": "01.엑셀자동화기초",
   "language": "python",
   "name": "python3"
  },
  "language_info": {
   "codemirror_mode": {
    "name": "ipython",
    "version": 3
   },
   "file_extension": ".py",
   "mimetype": "text/x-python",
   "name": "python",
   "nbconvert_exporter": "python",
   "pygments_lexer": "ipython3",
   "version": "3.12.8"
  },
  "orig_nbformat": 4
 },
 "nbformat": 4,
 "nbformat_minor": 2
}

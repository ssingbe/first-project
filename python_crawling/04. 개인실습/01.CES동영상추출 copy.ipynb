{
 "cells": [
  {
   "cell_type": "code",
   "execution_count": null,
   "metadata": {},
   "outputs": [],
   "source": [
    "#pip install yt-dlp"
   ]
  },
  {
   "cell_type": "code",
   "execution_count": 1,
   "metadata": {},
   "outputs": [
    {
     "name": "stdout",
     "output_type": "stream",
     "text": [
      "[INFO] aria2c가 차단되어 있으므로 기본 다운로드 방식을 사용합니다.\n",
      "[generic] Extracting URL: https://www.ces.tech/videos/2025/january/cta-state-of-the-industry-address-and-panasonic-holdings-keynote/\n",
      "[generic] cta-state-of-the-industry-address-and-panasonic-holdings-keynote: Downloading webpage\n"
     ]
    },
    {
     "name": "stderr",
     "output_type": "stream",
     "text": [
      "WARNING: [generic] Falling back on generic information extractor\n"
     ]
    },
    {
     "name": "stdout",
     "output_type": "stream",
     "text": [
      "[generic] cta-state-of-the-industry-address-and-panasonic-holdings-keynote: Extracting information\n",
      "[brightcove:new] Extracting URL: https://players.brightcove.net/5629323166001/G9w6yOa2YM_default/index.html?videoId=6366781352112#...ngs-keynote%2F%22%7D\n",
      "[brightcove:new] 6366781352112: Downloading JSON metadata\n",
      "[brightcove:new] 6366781352112: Downloading m3u8 information\n",
      "[brightcove:new] 6366781352112: Downloading m3u8 information\n",
      "[brightcove:new] 6366781352112: Downloading m3u8 information\n",
      "[brightcove:new] 6366781352112: Downloading m3u8 information\n",
      "[brightcove:new] 6366781352112: Downloading MPD manifest\n",
      "[brightcove:new] 6366781352112: Downloading MPD manifest\n",
      "[brightcove:new] 6366781352112: Downloading MPD manifest\n",
      "[brightcove:new] 6366781352112: Downloading MPD manifest\n",
      "[info] 6366781352112: Downloading 1 format(s): http-3676k-1080p-1\n",
      "[download] Resuming download at byte 613747134\n",
      "[download] Destination: videos_2025_january_cta-state-of-the-industry-address-and-panasonic-holdings-keynote.mp4\n",
      "[download] 100% of    2.24GiB in 02:55:03 at 223.36KiB/s    \n",
      "[INFO] 다운로드 완료: videos_2025_january_cta-state-of-the-industry-address-and-panasonic-holdings-keynote\n",
      "\n",
      "[INFO] 다운로드 결과 요약:\n",
      "  1. https://www.ces.tech/videos/2025/january/cta-state-of-the-industry-address-and-panasonic-holdings-keynote/ -> 성공\n",
      "\n",
      "[INFO] 모든 동영상 다운로드 완료! 소요 시간: 10505.75초\n"
     ]
    }
   ],
   "source": [
    "from concurrent.futures import ThreadPoolExecutor\n",
    "import yt_dlp\n",
    "import time\n",
    "import os\n",
    "from urllib.parse import urlparse\n",
    "\n",
    "# aria2c 설치 여부 확인\n",
    "def check_aria2c_installed():\n",
    "    print(\"[INFO] aria2c가 차단되어 있으므로 기본 다운로드 방식을 사용합니다.\")\n",
    "\n",
    "# 동영상 다운로드 함수\n",
    "def download_video(video_url, output_filename):\n",
    "    ydl_opts = {\n",
    "        'format': 'best',  # 최고 화질 다운로드\n",
    "        'outtmpl': f'{output_filename}.%(ext)s',  # 파일 이름 템플릿\n",
    "        'quiet': False,  # 메시지를 출력\n",
    "        'concurrent_fragment_downloads': 10,  # 병렬 조각 다운로드 개수\n",
    "        'noprogress': False,  # 진행 표시 활성화\n",
    "        'ratelimit': None,  # 다운로드 속도 제한 해제\n",
    "    }\n",
    "    try:\n",
    "        with yt_dlp.YoutubeDL(ydl_opts) as ydl:\n",
    "            ydl.download([video_url])\n",
    "            print(f\"[INFO] 다운로드 완료: {output_filename}\")\n",
    "    except Exception as e:\n",
    "        print(f\"[ERROR] 다운로드 실패: {video_url}, 오류: {e}\")\n",
    "        return False\n",
    "    return True\n",
    "\n",
    "# 병렬 처리 함수\n",
    "def download_videos_concurrently(video_urls):\n",
    "    results = []\n",
    "    with ThreadPoolExecutor(max_workers=10) as executor:  # 최대 10개의 작업 동시 실행\n",
    "        futures = []\n",
    "        for idx, video_url in enumerate(video_urls):\n",
    "            parsed_url = urlparse(video_url)\n",
    "            output_filename = parsed_url.path.strip(\"/\").replace(\"/\", \"_\") or f\"Video_{idx + 1}\"\n",
    "            futures.append(executor.submit(download_video, video_url, output_filename))\n",
    "        \n",
    "        for idx, future in enumerate(futures):\n",
    "            result = future.result()\n",
    "            results.append((video_urls[idx], result))\n",
    "    return results\n",
    "\n",
    "# 메인 실행\n",
    "if __name__ == \"__main__\":\n",
    "    # aria2c 설치 여부 확인\n",
    "    check_aria2c_installed()\n",
    "\n",
    "    # 다운로드할 동영상 URL 목록\n",
    "    video_urls = [\n",
    "        \"https://www.ces.tech/videos/2025/january/cta-state-of-the-industry-address-and-panasonic-holdings-keynote/\",\n",
    "        # 필요한 다른 URL 추가\n",
    "    ]\n",
    "\n",
    "    start_time = time.time()\n",
    "    results = download_videos_concurrently(video_urls)\n",
    "\n",
    "    # 결과 요약 출력\n",
    "    print(\"\\n[INFO] 다운로드 결과 요약:\")\n",
    "    for idx, (url, success) in enumerate(results):\n",
    "        status = \"성공\" if success else \"실패\"\n",
    "        print(f\"  {idx + 1}. {url} -> {status}\")\n",
    "\n",
    "    print(f\"\\n[INFO] 모든 동영상 다운로드 완료! 소요 시간: {time.time() - start_time:.2f}초\")\n"
   ]
  }
 ],
 "metadata": {
  "kernelspec": {
   "display_name": "python_crawling",
   "language": "python",
   "name": "python3"
  },
  "language_info": {
   "codemirror_mode": {
    "name": "ipython",
    "version": 3
   },
   "file_extension": ".py",
   "mimetype": "text/x-python",
   "name": "python",
   "nbconvert_exporter": "python",
   "pygments_lexer": "ipython3",
   "version": "3.12.8"
  }
 },
 "nbformat": 4,
 "nbformat_minor": 2
}

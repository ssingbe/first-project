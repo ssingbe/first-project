{
 "cells": [
  {
   "cell_type": "code",
   "execution_count": null,
   "metadata": {},
   "outputs": [],
   "source": [
    "#pip install yt-dlp"
   ]
  },
  {
   "cell_type": "code",
   "execution_count": null,
   "metadata": {},
   "outputs": [],
   "source": [
    "import yt_dlp\n",
    "\n",
    "# 다운로드 옵션 설정\n",
    "ydl_opts = {\n",
    "    'format': 'best',  # 최고 화질 다운로드\n",
    "    'outtmpl': 'CES2025_video.%(ext)s',  # 저장 파일 이름 및 확장자 설정\n",
    "}\n",
    "\n",
    "# 동영상 URL\n",
    "video_url = \"https://www.ces.tech/videos/2025/january/advanced-mobility-the-road-ahead/\"\n",
    "\n",
    "# yt-dlp 실행\n",
    "with yt_dlp.YoutubeDL(ydl_opts) as ydl:\n",
    "    ydl.download([video_url])\n",
    "\n",
    "print(\"동영상 다운로드가 완료되었습니다!\")\n",
    "\n"
   ]
  },
  {
   "cell_type": "code",
   "execution_count": 1,
   "metadata": {},
   "outputs": [
    {
     "name": "stdout",
     "output_type": "stream",
     "text": [
      "[INFO] 다운로드 완료: CES_Panasonic_video_1                       \n",
      "[INFO] 모든 동영상 다운로드 완료! 소요 시간: 108.06초\n"
     ]
    }
   ],
   "source": [
    "from concurrent.futures import ThreadPoolExecutor\n",
    "import yt_dlp\n",
    "import time\n",
    "from fake_useragent import UserAgent\n",
    "\n",
    "# 동영상 다운로드 함수\n",
    "def download_video(video_url, output_filename):\n",
    "    ydl_opts = {\n",
    "        'format': 'best',\n",
    "        'outtmpl': f'{output_filename}.%(ext)s',\n",
    "        'quiet': True,  # 다운로드 중 메시지 최소화\n",
    "        'concurrent_fragment_downloads': 5,  # 동시 다운로드 수 (조각 다운로드)\n",
    "        'external_downloader': 'aria2c',  # 고속 다운로드 도구 사용\n",
    "        'external_downloader_args': ['-x', '16', '-k', '1M'],  # aria2c 설정: 최대 16개 연결, 1MB 청크\n",
    "    }\n",
    "    with yt_dlp.YoutubeDL(ydl_opts) as ydl:\n",
    "        try:\n",
    "            ydl.download([video_url])\n",
    "            print(f\"[INFO] 다운로드 완료: {output_filename}\")\n",
    "        except Exception as e:\n",
    "            print(f\"[ERROR] 다운로드 실패: {video_url}, 오류: {e}\")\n",
    "\n",
    "# 병렬 처리 함수\n",
    "def download_videos_concurrently(video_urls):\n",
    "    with ThreadPoolExecutor(max_workers=5) as executor:  # 최대 5개의 작업을 동시에 실행\n",
    "        futures = []\n",
    "        for idx, video_url in enumerate(video_urls):\n",
    "            output_filename = f\"CES_Panasonic_video_{idx + 1}\"\n",
    "            futures.append(executor.submit(download_video, video_url, output_filename))\n",
    "\n",
    "        for future in futures:\n",
    "            future.result()  # 각 작업이 완료될 때까지 대기\n",
    "\n",
    "# 예제: 다운로드할 동영상 URL 목록\n",
    "video_urls = [\n",
    "    \"https://www.youtube.com/watch?v=o5aL2IWeESg&t=1040s\",\n",
    "]\n",
    "\n",
    "# 동영상 다운로드 실행\n",
    "if __name__ == \"__main__\":\n",
    "    start_time = time.time()\n",
    "    download_videos_concurrently(video_urls)\n",
    "    print(f\"[INFO] 모든 동영상 다운로드 완료! 소요 시간: {time.time() - start_time:.2f}초\")\n"
   ]
  }
 ],
 "metadata": {
  "kernelspec": {
   "display_name": "python_crawling",
   "language": "python",
   "name": "python3"
  },
  "language_info": {
   "codemirror_mode": {
    "name": "ipython",
    "version": 3
   },
   "file_extension": ".py",
   "mimetype": "text/x-python",
   "name": "python",
   "nbconvert_exporter": "python",
   "pygments_lexer": "ipython3",
   "version": "3.12.8"
  }
 },
 "nbformat": 4,
 "nbformat_minor": 2
}

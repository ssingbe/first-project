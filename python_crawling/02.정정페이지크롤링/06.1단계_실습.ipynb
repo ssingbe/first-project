{
 "cells": [
  {
   "cell_type": "code",
   "execution_count": 1,
   "metadata": {},
   "outputs": [
    {
     "name": "stdout",
     "output_type": "stream",
     "text": [
      "노트북 에이서 스위프트 GO 16 OLED, 스틸 그레이, 코어i7, 512GB, 16GB, WIN11 Home, SFG16-71-77FT #product1_detail.html 1419000\n"
     ]
    }
   ],
   "source": [
    "#1단계 한개의 상품 크롤링 실습\n",
    "import requests\n",
    "from bs4 import BeautifulSoup\n",
    "\n",
    "response = requests.get(\"https://startcoding.pythonanywhere.com/basic\")#response 응답객체 데이터+명령어를 모두가지는 자료형\n",
    "html = response.text\n",
    "soup = BeautifulSoup(html,'html.parser')\n",
    "category = soup.select_one(\".product-category\").text\n",
    "name = soup.select_one(\".product-name\").text\n",
    "link = soup.select_one(\".product-name > a\").attrs['href']\n",
    "price = soup.select_one(\".product-price\").text.strip().replace('원','').replace(',','') #strip 앞뒤 공백제거, replace는 원하는값 대체\n",
    "\n",
    "print(category,name,link,price)"
   ]
  },
  {
   "cell_type": "code",
   "execution_count": 2,
   "metadata": {},
   "outputs": [
    {
     "name": "stderr",
     "output_type": "stream",
     "text": [
      "<>:11: SyntaxWarning: invalid escape sequence '\\:'\n",
      "<>:11: SyntaxWarning: invalid escape sequence '\\:'\n",
      "C:\\Users\\CTE22-213\\AppData\\Local\\Temp\\ipykernel_4620\\1567154136.py:11: SyntaxWarning: invalid escape sequence '\\:'\n",
      "  link = soup.select_one(\".relative.flex.flex-col.h-full.p-16.md\\:pb-24.rounded-lg.bg-layer.text-primary.transition.group\\/card > a\").attrs['href']\n"
     ]
    },
    {
     "name": "stdout",
     "output_type": "stream",
     "text": [
      "SolidVue [SL-2.2] High-Resolution SPAD Sensor for LiDAR Smart Cities /ces-innovation-awards/2025/sl-22-high-resolution-spad-sensor-for-lidar/\n"
     ]
    }
   ],
   "source": [
    "#1단계 한개의 상품 크롤링 실습(CES 사이트)\n",
    "import requests\n",
    "from bs4 import BeautifulSoup\n",
    "\n",
    "response = requests.get(\"https://www.ces.tech/innovation-awards\")\n",
    "html = response.text\n",
    "soup = BeautifulSoup(html,'html.parser')\n",
    "company = soup.select_one(\".outline-none.f-heading-4\").text.strip()\n",
    "product = soup.select_one(\".mt-4.f-body-3\").text.strip()\n",
    "category = soup.select_one(\".relative.flex.flex-wrap.gap-y-8.gap-x-4.mt-auto.pt-space-6.z-2\").text.strip()\n",
    "link = soup.select_one(\".relative.flex.flex-col.h-full.p-16.md\\:pb-24.rounded-lg.bg-layer.text-primary.transition.group\\/card > a\").attrs['href']\n",
    "\n",
    "print(company,product,category,link)"
   ]
  }
 ],
 "metadata": {
  "kernelspec": {
   "display_name": "python_crawling",
   "language": "python",
   "name": "python3"
  },
  "language_info": {
   "codemirror_mode": {
    "name": "ipython",
    "version": 3
   },
   "file_extension": ".py",
   "mimetype": "text/x-python",
   "name": "python",
   "nbconvert_exporter": "python",
   "pygments_lexer": "ipython3",
   "version": "3.12.8"
  },
  "orig_nbformat": 4
 },
 "nbformat": 4,
 "nbformat_minor": 2
}

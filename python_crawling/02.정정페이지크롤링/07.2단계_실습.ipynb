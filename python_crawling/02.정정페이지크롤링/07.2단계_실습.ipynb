{
 "cells": [
  {
   "cell_type": "code",
   "execution_count": 12,
   "metadata": {},
   "outputs": [
    {
     "name": "stdout",
     "output_type": "stream",
     "text": [
      "SolidVue [SL-2.2] High-Resolution SPAD Sensor for LiDAR Smart Cities /innovation-awards/2025/sl-22-high-resolution-spad-sensor-for-lidar/\n"
     ]
    }
   ],
   "source": [
    "#1단계 한개의 상품 크롤링 실습(CES 사이트)\n",
    "import requests\n",
    "from bs4 import BeautifulSoup\n",
    "\n",
    "response = requests.get(\"https://www.ces.tech/innovation-awards\")\n",
    "html = response.text\n",
    "soup = BeautifulSoup(html,'html.parser')\n",
    "company = soup.select_one(\".outline-none.f-heading-4\").text.strip()\n",
    "product = soup.select_one(\".mt-4.f-body-3\").text.strip()\n",
    "category = soup.select_one(\".relative.flex.flex-wrap.gap-y-8.gap-x-4.mt-auto.pt-space-6.z-2\").text.strip()\n",
    "link = soup.select_one(\".relative.flex.flex-col.h-full.p-16.md\\:pb-24.rounded-lg.bg-layer.text-primary.transition.group\\/card > a\").attrs['href']\n",
    "\n",
    "print(company,product,category,link)"
   ]
  },
  {
   "cell_type": "code",
   "execution_count": null,
   "metadata": {},
   "outputs": [],
   "source": [
    "#여래개의 상품 크롤링하는 법 실습\n",
    "import requests\n",
    "from bs4 import BeautifulSoup\n",
    "\n",
    "response = requests.get(\"https://www.ces.tech/innovation-awards\")\n",
    "html = response.text\n",
    "soup = BeautifulSoup(html,'html.parser')\n",
    "items = soup.select(\".relative.flex.flex-col.h-full.p-16.md\\:pb-24.rounded-lg.bg-layer.text-primary.transition.group\\/card\")\n",
    "\n",
    "for item in items:\n",
    "    company = item.select_one(\".outline-none.f-heading-4\").text.strip()\n",
    "    product = item.select_one(\".mt-4.f-body-3\").text.strip()\n",
    "    category = item.select_one(\".relative.flex.flex-wrap.gap-y-8.gap-x-4.mt-auto.pt-space-6.z-2\").text.strip() #strip 앞뒤 공백제거, replace는 원하는값 대체\n",
    "    link = item.select_one(\".relative.flex.flex-col.h-full.p-16.md\\:pb-24.rounded-lg.bg-layer.text-primary.transition.group\\/card > a\").attrs['href']\n",
    "    print(company,product,category,link)"
   ]
  },
  {
   "cell_type": "code",
   "execution_count": 1,
   "metadata": {},
   "outputs": [
    {
     "name": "stdout",
     "output_type": "stream",
     "text": [
      "Data from 23 pages has been saved to ces_innovation_awards.xlsx\n"
     ]
    }
   ],
   "source": [
    "import requests\n",
    "from bs4 import BeautifulSoup\n",
    "import pandas as pd\n",
    "\n",
    "# 기본 URL 설정\n",
    "base_url = \"https://www.ces.tech/innovation-awards\"\n",
    "\n",
    "# 모든 페이지의 데이터를 저장할 리스트\n",
    "all_products = []\n",
    "\n",
    "# 페이지 수 설정 (1부터 23까지)\n",
    "total_pages = 23\n",
    "\n",
    "for page in range(1, total_pages + 1):\n",
    "    # 각 페이지 URL 구성\n",
    "    if page == 1:\n",
    "        url = base_url\n",
    "    else:\n",
    "        url = f\"{base_url}?page={page}\"\n",
    "\n",
    "    response = requests.get(url)\n",
    "\n",
    "    if response.status_code == 200:\n",
    "        html = response.text\n",
    "        soup = BeautifulSoup(html, 'html.parser')\n",
    "\n",
    "        # 상품명, 회사명, 카테고리를 각각 개별적으로 탐색\n",
    "        product_names = soup.select(\".mt-4.f-body-3\")  # 상품명에 해당하는 클래스 이름\n",
    "        company_names = soup.select(\".outline-none.f-heading-4\")  # 회사명에 해당하는 클래스 이름\n",
    "        categories = soup.select(\".relative.flex.flex-wrap.gap-y-8.gap-x-4.mt-auto.pt-space-6.z-2\")  # 카테고리에 해당하는 클래스 이름\n",
    "\n",
    "        # 최소한의 길이를 기준으로 데이터 수 맞추기\n",
    "        num_items = min(len(product_names), len(company_names), len(categories))\n",
    "\n",
    "        for i in range(num_items):\n",
    "            product_name = product_names[i].text.strip() if product_names[i] else \"Product not found\"\n",
    "            company_name = company_names[i].text.strip() if company_names[i] else \"Company not found\"\n",
    "            category_name = categories[i].text.strip() if categories[i] else \"Category not found\"\n",
    "\n",
    "            # 상품 정보를 딕셔너리로 저장\n",
    "            all_products.append({\n",
    "                \"Company\": company_name,\n",
    "                \"Product\": product_name,\n",
    "                \"Category\": category_name\n",
    "            })\n",
    "    else:\n",
    "        print(f\"Failed to fetch page {page}. Status code: {response.status_code}\")\n",
    "\n",
    "# 데이터프레임 생성\n",
    "df = pd.DataFrame(all_products)\n",
    "\n",
    "# 엑셀로 저장\n",
    "output_file = \"ces_innovation_awards.xlsx\"\n",
    "df.to_excel(output_file, index=False)\n",
    "print(f\"Data from {total_pages} pages has been saved to {output_file}\")\n"
   ]
  },
  {
   "cell_type": "code",
   "execution_count": 1,
   "metadata": {},
   "outputs": [
    {
     "name": "stdout",
     "output_type": "stream",
     "text": [
      "노트북 에이서 스위프트 GO 16 OLED, 스틸 그레이, 코어i7, 512GB, 16GB, WIN11 Home, SFG16-71-77FT #product1_detail.html 1419000\n",
      "노트북 삼성전자 노트북 플러스2 15.6, 퓨어 화이트, NT550XDA-K24AT, 펜티엄, 256GB, 8GB, WIN11 Pro #product2_detail.html 549000\n",
      "노트북 레노버 아이디어패드 슬림 1 15AMN7 15.6, 256GB, Free DOS, 82VG002EKR, 라이젠3, Cloud Grey (82VG), 8GB #product3_detail.html 529000\n",
      "노트북 레노버 V15 G4 AMN 15.6, Arctic Grey, 라이젠3, 256GB, 8GB, WIN11 Home, 82YU0009KR #product4_detail.html 624000\n",
      "노트북 LG 울트라PC 엣지 16, 차콜 그레이, 라이젠5, 256GB, 16GB, WIN11 Home, 16U70R-GA56K #product5_detail.html 1135000\n",
      "노트북 베이직스 베이직북 14 3세대, BB1422SS, 256GB, White, WIN11 Pro, 셀러론, 8GB #product6_detail.html 398000\n",
      "노트북 레노버 아이디어패드 슬림 5i 14IRL 14, Cloud Grey, 코어i5, 512GB, 16GB, Free DOS, 82XD002XKR #product7_detail.html 899000\n",
      "노트북 레노버 아이디어패드 슬림 5 16IRL 16, Cloud Grey, 512GB, 16GB, Free DOS, 82XF001RKR #product8_detail.html 929000\n",
      "노트북 에이서 스위프트 GO 16 OLED, 스틸 그레이, 코어i5, 512GB, 16GB, Free DOS, SFG16-71-51BY #product9_detail.html 1008000\n",
      "노트북 삼성전자 갤럭시북 2 15.6, 500GB, 실버, NT550XED-K78AS, 코어i7, 16GB, WIN11 Home #product10_detail.html 1149000\n"
     ]
    }
   ],
   "source": [
    "#여래개의 상품 크롤링하는 법 실습\n",
    "import requests\n",
    "from bs4 import BeautifulSoup\n",
    "\n",
    "response = requests.get(\"https://startcoding.pythonanywhere.com/basic\")#response 응답객체 데이터+명령어를 모두가지는 자료형\n",
    "html = response.text\n",
    "soup = BeautifulSoup(html,'html.parser')\n",
    "items = soup.select(\".product\")\n",
    "\n",
    "for item in items:\n",
    "    category = item.select_one(\".product-category\").text\n",
    "    name = item.select_one(\".product-name\").text\n",
    "    link = item.select_one(\".product-name > a\").attrs['href']\n",
    "    price = item.select_one(\".product-price\").text.split('원')[0].replace(',','') #strip 앞뒤 공백제거, replace는 원하는값 대체\n",
    "    print(category,name,link,price)"
   ]
  },
  {
   "cell_type": "code",
   "execution_count": null,
   "metadata": {},
   "outputs": [],
   "source": []
  }
 ],
 "metadata": {
  "kernelspec": {
   "display_name": "python_crawling",
   "language": "python",
   "name": "python3"
  },
  "language_info": {
   "codemirror_mode": {
    "name": "ipython",
    "version": 3
   },
   "file_extension": ".py",
   "mimetype": "text/x-python",
   "name": "python",
   "nbconvert_exporter": "python",
   "pygments_lexer": "ipython3",
   "version": "3.12.8"
  },
  "orig_nbformat": 4
 },
 "nbformat": 4,
 "nbformat_minor": 2
}

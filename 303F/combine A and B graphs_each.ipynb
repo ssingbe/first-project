{
 "cells": [
  {
   "cell_type": "code",
   "execution_count": 1,
   "metadata": {},
   "outputs": [],
   "source": [
    "import os\n",
    "import pandas as pd\n",
    "import matplotlib.pyplot as plt\n",
    "import seaborn as sns"
   ]
  },
  {
   "cell_type": "code",
   "execution_count": 2,
   "metadata": {},
   "outputs": [],
   "source": [
    "# 폰트 설정\n",
    "plt.rcParams['font.family'] = 'Malgun Gothic'  # Windows의 경우 '맑은 고딕'\n",
    "# Mac의 경우: plt.rcParams['font.family'] = 'AppleGothic'\n",
    "# Linux의 경우 적절한 한글 폰트를 설치해야 함 (예: 'NanumGothic')\n",
    "\n",
    "# 음수 기호가 깨지는 문제 해결 (minus 폰트 설정)\n",
    "plt.rcParams['axes.unicode_minus'] = False"
   ]
  },
  {
   "cell_type": "code",
   "execution_count": 3,
   "metadata": {},
   "outputs": [],
   "source": [
    "\n",
    "# 엑셀 파일 불러오기\n",
    "# 파일 경로를 지정하세요.\n",
    "merged_df = pd.read_excel('merged_file.xlsx')  # A 데이터\n",
    "df = pd.read_excel('df_b.xlsx')  # B 데이터"
   ]
  },
  {
   "cell_type": "code",
   "execution_count": 4,
   "metadata": {},
   "outputs": [
    {
     "name": "stderr",
     "output_type": "stream",
     "text": [
      "posx and posy should be finite values\n",
      "posx and posy should be finite values\n",
      "posx and posy should be finite values\n",
      "C:\\Users\\seah\\AppData\\Local\\Temp\\ipykernel_34120\\4114741771.py:59: UserWarning: Tight layout not applied. The bottom and top margins cannot be made large enough to accommodate all axes decorations.\n",
      "  fig.tight_layout()  # 레이아웃 조정\n",
      "C:\\Users\\seah\\AppData\\Local\\Temp\\ipykernel_34120\\4114741771.py:59: UserWarning: Tight layout not applied. The bottom and top margins cannot be made large enough to accommodate all axes decorations.\n",
      "  fig.tight_layout()  # 레이아웃 조정\n",
      "C:\\Users\\seah\\AppData\\Local\\Temp\\ipykernel_34120\\4114741771.py:59: UserWarning: Tight layout not applied. The bottom and top margins cannot be made large enough to accommodate all axes decorations.\n",
      "  fig.tight_layout()  # 레이아웃 조정\n",
      "C:\\Users\\seah\\AppData\\Local\\Temp\\ipykernel_34120\\4114741771.py:59: UserWarning: Tight layout not applied. The bottom and top margins cannot be made large enough to accommodate all axes decorations.\n",
      "  fig.tight_layout()  # 레이아웃 조정\n",
      "posx and posy should be finite values\n",
      "posx and posy should be finite values\n",
      "posx and posy should be finite values\n"
     ]
    },
    {
     "name": "stdout",
     "output_type": "stream",
     "text": [
      "모든 그래프가 저장되었습니다.\n"
     ]
    }
   ],
   "source": [
    "# '압연년월' 열을 datetime 형식으로 변환 (B 데이터에 필요)\n",
    "df['압연년월'] = pd.to_datetime(df['압연년월']).dt.strftime('%Y-%m')  # '날짜' 열에서 년월을 문자열로 변환\n",
    "\n",
    "# B 데이터 그룹화하여 불량율 계산\n",
    "grouped = df.groupby(['외경', '압연년월']).agg({\n",
    "    '투입중량': 'sum',\n",
    "    '발생중량': 'sum'\n",
    "}).reset_index()\n",
    "\n",
    "# 불량율 계산\n",
    "grouped['불량율'] = (grouped['발생중량'] / grouped['투입중량']) * 100\n",
    "\n",
    "# 고유한 '외경' 값 가져오기\n",
    "unique_conditions = grouped['외경'].unique()\n",
    "\n",
    "# 그래프를 저장할 폴더 생성\n",
    "output_folder = 'combined_graphs'  # 폴더 이름\n",
    "os.makedirs(output_folder, exist_ok=True)  # 폴더가 없으면 생성\n",
    "\n",
    "# 각 필터 조건에 대해 그래프 생성\n",
    "for condition in unique_conditions:\n",
    "    filtered_a_df = merged_df[merged_df['지시외경'] == condition]  # A 그래프 데이터 필터링\n",
    "    filtered_b_df = grouped[grouped['외경'] == condition]  # B 그래프 데이터 필터링\n",
    "\n",
    "    if not filtered_a_df.empty and not filtered_b_df.empty:  # 두 데이터가 모두 있을 때만 그래프 그리기\n",
    "        # '압연년월'을 문자열로 변환하여 정렬\n",
    "        filtered_b_df = filtered_b_df.sort_values(by='압연년월')\n",
    "\n",
    "        fig, ax1 = plt.subplots(figsize=(12, 6))\n",
    "\n",
    "        # A 그래프 그리기 (왼쪽 y축)\n",
    "        sns.boxplot(x='year_month', y='균열대.1', data=filtered_a_df, ax=ax1, color='lightgray')\n",
    "        ax1.set_xlabel('압연년월')\n",
    "        ax1.set_ylabel('Soaking_Temp', color='gray')\n",
    "        ax1.tick_params(axis='y', labelcolor='gray')\n",
    "        plt.xticks(rotation=90)\n",
    "        plt.ylim(1240,1300)\n",
    "\n",
    "        # A 그래프 중앙값 표시\n",
    "        medians = filtered_a_df.groupby('year_month')['균열대.1'].median()\n",
    "        for xtick, median in zip(ax1.get_xticks(), medians):\n",
    "            ax1.text(xtick, median, f'{median:.0f}', \n",
    "                     ha='center', va='top', color='black', fontsize=6)\n",
    "\n",
    "\n",
    "        # B 그래프 그리기 (오른쪽 y축)\n",
    "        ax2 = ax1.twinx()  # 보조 y축 생성\n",
    "        sns.lineplot(x='압연년월', y='불량율', data=filtered_b_df, ax=ax2, marker='o', color='darkred')\n",
    "        ax2.set_ylabel('불량율 (%)', color='darkred')\n",
    "        ax2.tick_params(axis='y', labelcolor='darkred')\n",
    "\n",
    "        # 불량률 값 표시\n",
    "        for index, row in filtered_b_df.iterrows():\n",
    "            ax2.text(row['압연년월'], row['불량율'], f\"{row['불량율']:.1f}\", \n",
    "                     color='darkred', ha='center', va='bottom',fontsize=8)\n",
    "\n",
    "        # 그래프 제목 및 레이아웃 설정\n",
    "        plt.title(f'Combined Graph for 외경 {condition}')\n",
    "        fig.tight_layout()  # 레이아웃 조정\n",
    "\n",
    "        # 범례 추가\n",
    "        ax1.legend(['soaking_temp(℃)'], loc='upper left', frameon=False)\n",
    "        ax2.legend(['불량율(%)'], loc='upper right', frameon=False)\n",
    "\n",
    "        # 그래프 저장\n",
    "        plt.savefig(os.path.join(output_folder, f'combined_graph_{condition}.png'), dpi=300)\n",
    "        plt.close()  # 그래프를 닫아 메모리 관리\n",
    "                \n",
    "# 완료 메시지\n",
    "print(\"모든 그래프가 저장되었습니다.\")"
   ]
  }
 ],
 "metadata": {
  "kernelspec": {
   "display_name": "303F",
   "language": "python",
   "name": "python3"
  },
  "language_info": {
   "codemirror_mode": {
    "name": "ipython",
    "version": 3
   },
   "file_extension": ".py",
   "mimetype": "text/x-python",
   "name": "python",
   "nbconvert_exporter": "python",
   "pygments_lexer": "ipython3",
   "version": "3.10.11"
  },
  "orig_nbformat": 4
 },
 "nbformat": 4,
 "nbformat_minor": 2
}

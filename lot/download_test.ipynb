{
 "cells": [
  {
   "cell_type": "code",
   "execution_count": 13,
   "metadata": {},
   "outputs": [
    {
     "name": "stdout",
     "output_type": "stream",
     "text": [
      "win32_element_info.HwndElementInfo - '', HwndWrapper[DeepL;;02dfd471-12f9-4b29-9bf9-bff52efbc3bc] / 프로세스 : 18472\n",
      "win32_element_info.HwndElementInfo - '', Shell_TrayWnd / 프로세스 : 8884\n",
      "win32_element_info.HwndElementInfo - '', Shell_SecondaryTrayWnd / 프로세스 : 8884\n",
      "win32_element_info.HwndElementInfo - '● download_test.ipynb - python_Study - Visual Studio Code [관리자]', Chrome_WidgetWin_1 / 프로세스 : 47836\n",
      "win32_element_info.HwndElementInfo - '🤖 pywinauto 사용법 - 윈도우 프로그램 테스트 자동화 - Chrome', Chrome_WidgetWin_1 / 프로세스 : 49752\n",
      "win32_element_info.HwndElementInfo - '', WindowsForms10.Window.8.app.0.cf4527_r24_ad1 / 프로세스 : 20344\n",
      "win32_element_info.HwndElementInfo - '[접속시각: 2024-09-04 오후 2:56:07], SeAHCSS MES [법인:세아창원특수강(89), 부서:스틸공정연구그룹, 이름:이관, 아이디:kwanlee]', WindowsForms10.Window.8.app.0.cf4527_r24_ad1 / 프로세스 : 20344\n",
      "win32_element_info.HwndElementInfo - '', #32770 / 프로세스 : 51600\n",
      "win32_element_info.HwndElementInfo - 'BRE_LOT입고수율_430계 - Excel', XLMAIN / 프로세스 : 15568\n",
      "win32_element_info.HwndElementInfo - '*제목 없음 - Windows 메모장', Notepad / 프로세스 : 57004\n",
      "win32_element_info.HwndElementInfo - '', #32770 / 프로세스 : 19920\n",
      "win32_element_info.HwndElementInfo - '', NarratorHelperWindow / 프로세스 : 47376\n",
      "win32_element_info.HwndElementInfo - '', Afx:00400000:0 / 프로세스 : 3520\n",
      "win32_element_info.HwndElementInfo - '', Windows.UI.Core.CoreWindow / 프로세스 : 14508\n",
      "win32_element_info.HwndElementInfo - '설정', ApplicationFrameWindow / 프로세스 : 12044\n",
      "win32_element_info.HwndElementInfo - '', Windows.UI.Core.CoreWindow / 프로세스 : 12544\n",
      "win32_element_info.HwndElementInfo - '미디어 플레이어', ApplicationFrameWindow / 프로세스 : 12044\n",
      "win32_element_info.HwndElementInfo - '', ApplicationFrameWindow / 프로세스 : 8884\n",
      "win32_element_info.HwndElementInfo - '', Windows.UI.Core.CoreWindow / 프로세스 : 11920\n",
      "win32_element_info.HwndElementInfo - '계산기', ApplicationFrameWindow / 프로세스 : 12044\n",
      "win32_element_info.HwndElementInfo - 'Microsoft Text Input Application', Windows.UI.Core.CoreWindow / 프로세스 : 16648\n",
      "win32_element_info.HwndElementInfo - '', EdgeUiInputTopWndClass / 프로세스 : 8884\n",
      "win32_element_info.HwndElementInfo - '', EdgeUiInputTopWndClass / 프로세스 : 8884\n",
      "win32_element_info.HwndElementInfo - '', DummyDWMListenerWindow / 프로세스 : 8884\n",
      "win32_element_info.HwndElementInfo - '', DummyDWMListenerWindow / 프로세스 : 8884\n",
      "win32_element_info.HwndElementInfo - '', DummyDWMListenerWindow / 프로세스 : 8884\n",
      "win32_element_info.HwndElementInfo - 'RapidViewDaemon', WindowsForms10.Window.8.app.0.141b42a_r8_ad1 / 프로세스 : 18776\n",
      "win32_element_info.HwndElementInfo - '240812_BRE_입고수율명세_STS430FSMS2('21.1~24.8) - Excel', XLMAIN / 프로세스 : 15568\n",
      "win32_element_info.HwndElementInfo - 'Q-Dir 11.16 - Admin', ATL:00000001401AC840 / 프로세스 : 17168\n",
      "win32_element_info.HwndElementInfo - '공임나라 정비 위한 부품 구매 : 네이버 검색 - Chrome', Chrome_WidgetWin_1 / 프로세스 : 49752\n",
      "win32_element_info.HwndElementInfo - '세아창원특수강 MES - Everything', EVERYTHING / 프로세스 : 31832\n",
      "win32_element_info.HwndElementInfo - '세아창원특수강 MES', CabinetWClass / 프로세스 : 8884\n",
      "win32_element_info.HwndElementInfo - '24.8월소형압연 생산계획_240812_VER1 - Excel', XLMAIN / 프로세스 : 15568\n",
      "win32_element_info.HwndElementInfo - '', WorkerW / 프로세스 : 8884\n",
      "win32_element_info.HwndElementInfo - '', WorkerW / 프로세스 : 8884\n",
      "win32_element_info.HwndElementInfo - 'Program Manager', Progman / 프로세스 : 8884\n"
     ]
    }
   ],
   "source": [
    "from pywinauto import findwindows\n",
    "\n",
    "# 현재 윈도우 화면에 있는 프로세스 목록 리스트를 반환한다. \n",
    "# 리스트의 각 요소는 element 객체로 프로세스 id, 핸들값, 이름 등의 정보를 보유한다.  \n",
    "procs = findwindows.find_elements()\n",
    "\n",
    "for proc in procs:\n",
    "    print(f\"{proc} / 프로세스 : {proc.process_id}\")\n"
   ]
  },
  {
   "cell_type": "code",
   "execution_count": 16,
   "metadata": {},
   "outputs": [
    {
     "name": "stderr",
     "output_type": "stream",
     "text": [
      "d:\\220413_문서중앙화_Backup\\python_Study\\lot\\lib\\site-packages\\pywinauto\\application.py:1085: UserWarning: 32-bit application should be automated using 32-bit Python (you use 64-bit Python)\n",
      "  warnings.warn(\n"
     ]
    },
    {
     "ename": "ElementNotFoundError",
     "evalue": "{'title': 'SeAHCSS MES', 'backend': 'win32', 'process': 4840}",
     "output_type": "error",
     "traceback": [
      "\u001b[1;31m---------------------------------------------------------------------------\u001b[0m",
      "\u001b[1;31mTimeoutError\u001b[0m                              Traceback (most recent call last)",
      "File \u001b[1;32md:\\220413_문서중앙화_Backup\\python_Study\\lot\\lib\\site-packages\\pywinauto\\application.py:250\u001b[0m, in \u001b[0;36mWindowSpecification.__resolve_control\u001b[1;34m(self, criteria, timeout, retry_interval)\u001b[0m\n\u001b[0;32m    249\u001b[0m \u001b[39mtry\u001b[39;00m:\n\u001b[1;32m--> 250\u001b[0m     ctrl \u001b[39m=\u001b[39m wait_until_passes(\n\u001b[0;32m    251\u001b[0m         timeout,\n\u001b[0;32m    252\u001b[0m         retry_interval,\n\u001b[0;32m    253\u001b[0m         \u001b[39mself\u001b[39;49m\u001b[39m.\u001b[39;49m__get_ctrl,\n\u001b[0;32m    254\u001b[0m         (findwindows\u001b[39m.\u001b[39;49mElementNotFoundError,\n\u001b[0;32m    255\u001b[0m          findbestmatch\u001b[39m.\u001b[39;49mMatchError,\n\u001b[0;32m    256\u001b[0m          controls\u001b[39m.\u001b[39;49mInvalidWindowHandle,\n\u001b[0;32m    257\u001b[0m          controls\u001b[39m.\u001b[39;49mInvalidElement),\n\u001b[0;32m    258\u001b[0m         criteria)\n\u001b[0;32m    260\u001b[0m \u001b[39mexcept\u001b[39;00m \u001b[39mTimeoutError\u001b[39;00m \u001b[39mas\u001b[39;00m e:\n",
      "File \u001b[1;32md:\\220413_문서중앙화_Backup\\python_Study\\lot\\lib\\site-packages\\pywinauto\\timings.py:458\u001b[0m, in \u001b[0;36mwait_until_passes\u001b[1;34m(timeout, retry_interval, func, exceptions, *args, **kwargs)\u001b[0m\n\u001b[0;32m    457\u001b[0m             err\u001b[39m.\u001b[39moriginal_exception \u001b[39m=\u001b[39m e\n\u001b[1;32m--> 458\u001b[0m             \u001b[39mraise\u001b[39;00m err\n\u001b[0;32m    460\u001b[0m \u001b[39m# return the function value\u001b[39;00m\n",
      "\u001b[1;31mTimeoutError\u001b[0m: ",
      "\nDuring handling of the above exception, another exception occurred:\n",
      "\u001b[1;31mElementNotFoundError\u001b[0m                      Traceback (most recent call last)",
      "Cell \u001b[1;32mIn[16], line 12\u001b[0m\n\u001b[0;32m      8\u001b[0m main_window \u001b[39m=\u001b[39m app\u001b[39m.\u001b[39mwindow(title\u001b[39m=\u001b[39m\u001b[39m\"\u001b[39m\u001b[39mSeAHCSS MES\u001b[39m\u001b[39m\"\u001b[39m)  \u001b[39m# 프로그램의 창 제목으로 대체\u001b[39;00m\n\u001b[0;32m     10\u001b[0m \u001b[39m# 3. 로그인 과정 자동화\u001b[39;00m\n\u001b[0;32m     11\u001b[0m \u001b[39m# 로그인 창의 텍스트 박스나 버튼을 찾고 상호작용합니다.\u001b[39;00m\n\u001b[1;32m---> 12\u001b[0m main_window[\u001b[39m\"\u001b[39;49m\u001b[39m아이디입력란이름\u001b[39;49m\u001b[39m\"\u001b[39;49m]\u001b[39m.\u001b[39;49mtype_keys(\u001b[39m\"\u001b[39m\u001b[39mkwanlee\u001b[39m\u001b[39m\"\u001b[39m)  \u001b[39m# 아이디 입력\u001b[39;00m\n\u001b[0;32m     13\u001b[0m main_window[\u001b[39m\"\u001b[39m\u001b[39m비밀번호입력란이름\u001b[39m\u001b[39m\"\u001b[39m]\u001b[39m.\u001b[39mtype_keys(\u001b[39m\"\u001b[39m\u001b[39mdlrhks1225!@\u001b[39m\u001b[39m\"\u001b[39m)  \u001b[39m# 비밀번호 입력\u001b[39;00m\n\u001b[0;32m     14\u001b[0m main_window[\u001b[39m\"\u001b[39m\u001b[39m로그인버튼이름\u001b[39m\u001b[39m\"\u001b[39m]\u001b[39m.\u001b[39mclick()  \u001b[39m# 로그인 버튼 클릭\u001b[39;00m\n",
      "File \u001b[1;32md:\\220413_문서중앙화_Backup\\python_Study\\lot\\lib\\site-packages\\pywinauto\\application.py:379\u001b[0m, in \u001b[0;36mWindowSpecification.__getattribute__\u001b[1;34m(self, attr_name)\u001b[0m\n\u001b[0;32m    374\u001b[0m \u001b[39m# if we already have 2 levels of criteria (dlg, control)\u001b[39;00m\n\u001b[0;32m    375\u001b[0m \u001b[39m# this third must be an attribute so resolve and get the\u001b[39;00m\n\u001b[0;32m    376\u001b[0m \u001b[39m# attribute and return it\u001b[39;00m\n\u001b[0;32m    377\u001b[0m \u001b[39mif\u001b[39;00m \u001b[39mlen\u001b[39m(\u001b[39mself\u001b[39m\u001b[39m.\u001b[39mcriteria) \u001b[39m>\u001b[39m\u001b[39m=\u001b[39m \u001b[39m2\u001b[39m:  \u001b[39m# FIXME - this is surprising\u001b[39;00m\n\u001b[1;32m--> 379\u001b[0m     ctrls \u001b[39m=\u001b[39m \u001b[39mself\u001b[39;49m\u001b[39m.\u001b[39;49m__resolve_control(\u001b[39mself\u001b[39;49m\u001b[39m.\u001b[39;49mcriteria)\n\u001b[0;32m    381\u001b[0m     \u001b[39mtry\u001b[39;00m:\n\u001b[0;32m    382\u001b[0m         \u001b[39mreturn\u001b[39;00m \u001b[39mgetattr\u001b[39m(ctrls[\u001b[39m-\u001b[39m\u001b[39m1\u001b[39m], attr_name)\n",
      "File \u001b[1;32md:\\220413_문서중앙화_Backup\\python_Study\\lot\\lib\\site-packages\\pywinauto\\application.py:261\u001b[0m, in \u001b[0;36mWindowSpecification.__resolve_control\u001b[1;34m(self, criteria, timeout, retry_interval)\u001b[0m\n\u001b[0;32m    250\u001b[0m     ctrl \u001b[39m=\u001b[39m wait_until_passes(\n\u001b[0;32m    251\u001b[0m         timeout,\n\u001b[0;32m    252\u001b[0m         retry_interval,\n\u001b[1;32m   (...)\u001b[0m\n\u001b[0;32m    257\u001b[0m          controls\u001b[39m.\u001b[39mInvalidElement),\n\u001b[0;32m    258\u001b[0m         criteria)\n\u001b[0;32m    260\u001b[0m \u001b[39mexcept\u001b[39;00m \u001b[39mTimeoutError\u001b[39;00m \u001b[39mas\u001b[39;00m e:\n\u001b[1;32m--> 261\u001b[0m     \u001b[39mraise\u001b[39;00m e\u001b[39m.\u001b[39moriginal_exception\n\u001b[0;32m    263\u001b[0m \u001b[39mreturn\u001b[39;00m ctrl\n",
      "File \u001b[1;32md:\\220413_문서중앙화_Backup\\python_Study\\lot\\lib\\site-packages\\pywinauto\\timings.py:436\u001b[0m, in \u001b[0;36mwait_until_passes\u001b[1;34m(timeout, retry_interval, func, exceptions, *args, **kwargs)\u001b[0m\n\u001b[0;32m    433\u001b[0m \u001b[39mwhile\u001b[39;00m \u001b[39mTrue\u001b[39;00m:\n\u001b[0;32m    434\u001b[0m     \u001b[39mtry\u001b[39;00m:\n\u001b[0;32m    435\u001b[0m         \u001b[39m# Call the function with any arguments\u001b[39;00m\n\u001b[1;32m--> 436\u001b[0m         func_val \u001b[39m=\u001b[39m func(\u001b[39m*\u001b[39margs, \u001b[39m*\u001b[39m\u001b[39m*\u001b[39mkwargs)\n\u001b[0;32m    438\u001b[0m         \u001b[39m# if no exception is raised then we are finished\u001b[39;00m\n\u001b[0;32m    439\u001b[0m         \u001b[39mbreak\u001b[39;00m\n",
      "File \u001b[1;32md:\\220413_문서중앙화_Backup\\python_Study\\lot\\lib\\site-packages\\pywinauto\\application.py:203\u001b[0m, in \u001b[0;36mWindowSpecification.__get_ctrl\u001b[1;34m(self, criteria_)\u001b[0m\n\u001b[0;32m    201\u001b[0m     criteria[\u001b[39m0\u001b[39m][\u001b[39m'\u001b[39m\u001b[39mprocess\u001b[39m\u001b[39m'\u001b[39m] \u001b[39m=\u001b[39m \u001b[39mself\u001b[39m\u001b[39m.\u001b[39mapp\u001b[39m.\u001b[39mprocess\n\u001b[0;32m    202\u001b[0m     \u001b[39mdel\u001b[39;00m criteria[\u001b[39m0\u001b[39m][\u001b[39m'\u001b[39m\u001b[39mapp\u001b[39m\u001b[39m'\u001b[39m]\n\u001b[1;32m--> 203\u001b[0m dialog \u001b[39m=\u001b[39m \u001b[39mself\u001b[39m\u001b[39m.\u001b[39mbackend\u001b[39m.\u001b[39mgeneric_wrapper_class(findwindows\u001b[39m.\u001b[39mfind_element(\u001b[39m*\u001b[39m\u001b[39m*\u001b[39mcriteria[\u001b[39m0\u001b[39m]))\n\u001b[0;32m    205\u001b[0m ctrls \u001b[39m=\u001b[39m []\n\u001b[0;32m    206\u001b[0m \u001b[39m# if there is only criteria for a dialog then return it\u001b[39;00m\n",
      "File \u001b[1;32md:\\220413_문서중앙화_Backup\\python_Study\\lot\\lib\\site-packages\\pywinauto\\findwindows.py:87\u001b[0m, in \u001b[0;36mfind_element\u001b[1;34m(**kwargs)\u001b[0m\n\u001b[0;32m     84\u001b[0m elements \u001b[39m=\u001b[39m find_elements(\u001b[39m*\u001b[39m\u001b[39m*\u001b[39mkwargs)\n\u001b[0;32m     86\u001b[0m \u001b[39mif\u001b[39;00m \u001b[39mnot\u001b[39;00m elements:\n\u001b[1;32m---> 87\u001b[0m     \u001b[39mraise\u001b[39;00m ElementNotFoundError(kwargs)\n\u001b[0;32m     89\u001b[0m \u001b[39mif\u001b[39;00m \u001b[39mlen\u001b[39m(elements) \u001b[39m>\u001b[39m \u001b[39m1\u001b[39m:\n\u001b[0;32m     90\u001b[0m     exception \u001b[39m=\u001b[39m ElementAmbiguousError(\n\u001b[0;32m     91\u001b[0m         \u001b[39m\"\u001b[39m\u001b[39mThere are \u001b[39m\u001b[39m{0}\u001b[39;00m\u001b[39m elements that match the criteria \u001b[39m\u001b[39m{1}\u001b[39;00m\u001b[39m\"\u001b[39m\u001b[39m.\u001b[39mformat(\n\u001b[0;32m     92\u001b[0m             \u001b[39mlen\u001b[39m(elements),\n\u001b[0;32m     93\u001b[0m             six\u001b[39m.\u001b[39mtext_type(kwargs),\n\u001b[0;32m     94\u001b[0m         )\n\u001b[0;32m     95\u001b[0m     )\n",
      "\u001b[1;31mElementNotFoundError\u001b[0m: {'title': 'SeAHCSS MES', 'backend': 'win32', 'process': 4840}"
     ]
    }
   ],
   "source": [
    "from pywinauto.application import Application\n",
    "import time\n",
    "\n",
    "# 1. 설치 프로그램 실행\n",
    "# 설치된 프로그램의 경로를 입력합니다.\n",
    "app = Application(backend=\"win32\").start(r\"C:\\Users\\seah\\Documents\\VNTG\\세아창원특수강 MES\\SeAHCSS_MES.exe\")\n",
    "\n",
    "main_window = app.window(title=\"SeAHCSS MES\")  # 프로그램의 창 제목으로 대체\n",
    "\n"
   ]
  }
 ],
 "metadata": {
  "kernelspec": {
   "display_name": "lot",
   "language": "python",
   "name": "python3"
  },
  "language_info": {
   "codemirror_mode": {
    "name": "ipython",
    "version": 3
   },
   "file_extension": ".py",
   "mimetype": "text/x-python",
   "name": "python",
   "nbconvert_exporter": "python",
   "pygments_lexer": "ipython3",
   "version": "3.10.11"
  },
  "orig_nbformat": 4
 },
 "nbformat": 4,
 "nbformat_minor": 2
}
